{
 "cells": [
  {
   "cell_type": "code",
   "execution_count": null,
   "metadata": {
    "collapsed": true,
    "pycharm": {
     "name": "#%% snipet for extracting the project\n"
    }
   },
   "outputs": [],
   "source": [
    "import zipfile\n",
    "zip = zipfile.ZipFile('deploy_5_26_v2.zip')\n",
    "zip.extractall()"
   ]
  },
  {
   "cell_type": "code",
   "execution_count": null,
   "outputs": [],
   "source": [
    "import collections\n",
    "\n",
    "import gym\n",
    "from myutils.trainingClasses.MountainCarConvolutionalTraining import MountainCarConvolutionalTraining\n",
    "from myutils.gym_custom.gym_custom import MountainCarEnvWrapper\n",
    "\n",
    "import numpy as np\n",
    "from myutils.xvfbwrapper import Xvfb\n",
    "\n",
    "vdisplay = Xvfb()\n",
    "vdisplay.start()\n",
    "\n",
    "try:\n",
    "\n",
    "    env = MountainCarEnvWrapper(gym.make('MountainCar-v0'))\n",
    "\n",
    "    print(\"Env created\")\n",
    "    env.reset()\n",
    "\n",
    "    agent = MountainCarConvolutionalTraining(env,'offline')\n",
    "    print(agent.env.set_state_with_harcoded_values(0.4,0.02))\n",
    "    print(\"Started training \\n ---------\\n\")\n",
    "    agent.start()\n",
    "finally:\n",
    "    vdisplay.stop()\n",
    "\n",
    "print(\"Finished training\")\n"
   ],
   "metadata": {
    "collapsed": false,
    "pycharm": {
     "name": "#%%\n"
    }
   }
  }
 ],
 "metadata": {
  "kernelspec": {
   "display_name": "Python 3",
   "language": "python",
   "name": "python3"
  },
  "language_info": {
   "codemirror_mode": {
    "name": "ipython",
    "version": 2
   },
   "file_extension": ".py",
   "mimetype": "text/x-python",
   "name": "python",
   "nbconvert_exporter": "python",
   "pygments_lexer": "ipython2",
   "version": "2.7.6"
  }
 },
 "nbformat": 4,
 "nbformat_minor": 0
}
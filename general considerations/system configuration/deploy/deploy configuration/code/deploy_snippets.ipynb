{
 "cells": [
  {
   "cell_type": "code",
   "execution_count": null,
   "metadata": {
    "collapsed": true,
    "pycharm": {
     "name": "#%% snipet for extracting the project\n"
    }
   },
   "outputs": [],
   "source": [
    "import zipfile\n",
    "zip = zipfile.ZipFile('deploy_5_26_v2.zip')\n",
    "zip.extractall()"
   ]
  },
  {
   "cell_type": "code",
   "execution_count": null,
   "outputs": [],
   "source": [
    "import tensorflow as tf\n",
    "\n",
    "gpus = tf.config.experimental.list_physical_devices('GPU')\n",
    "if gpus:\n",
    "    try:\n",
    "        # Restrict TensorFlow to only use the fourth GPU\n",
    "        tf.config.experimental.set_visible_devices(gpus[0], 'GPU')\n",
    "\n",
    "        # Currently, memory growth needs to be the same across GPUs\n",
    "        for gpu in gpus:\n",
    "            tf.config.experimental.set_memory_growth(gpu, True)\n",
    "        logical_gpus = tf.config.experimental.list_logical_devices('GPU')\n",
    "        print(len(gpus), \"Physical GPUs,\", len(logical_gpus), \"Logical GPUs\")\n",
    "    except RuntimeError as e:\n",
    "        # Memory growth must be set before GPUs have been initialized\n",
    "        print(e)"
   ],
   "metadata": {
    "collapsed": false,
    "pycharm": {
     "name": "#%%\n"
    }
   }
  },
  {
   "cell_type": "code",
   "execution_count": null,
   "outputs": [],
   "source": [
    "import collections\n",
    "\n",
    "import gym\n",
    "from myutils.trainingClasses.MountainCarConvolutionalTraining import MountainCarConvolutionalTraining\n",
    "from myutils.gym_custom.gym_custom import MountainCarEnvWrapper\n",
    "\n",
    "import numpy as np\n",
    "from myutils.xvfbwrapper import Xvfb\n",
    "\n",
    "vdisplay = Xvfb()\n",
    "vdisplay.start()\n",
    "\n",
    "try:\n",
    "\n",
    "    env = MountainCarEnvWrapper(gym.make('MountainCar-v0'))\n",
    "\n",
    "    print(\"Env created\")\n",
    "    env.reset()\n",
    "\n",
    "    agent = MountainCarConvolutionalTraining(env,'offline')\n",
    "\n",
    "    print(\"Started training \\n ---------\\n\")\n",
    "    agent.start()\n",
    "finally:\n",
    "    vdisplay.stop()\n",
    "\n",
    "print(\"Finished training\")"
   ],
   "metadata": {
    "collapsed": false,
    "pycharm": {
     "name": "#%% training process\n"
    }
   }
  },
  {
   "cell_type": "code",
   "execution_count": null,
   "outputs": [],
   "source": [
    "\n",
    "from collections import deque\n",
    "import gym\n",
    "from keras import models\n",
    "from myutils.performanceAnalyzation.Analytics import Analytics\n",
    "import datetime\n",
    "from myutils.trainingClasses.MountainCarConvolutionalTraining import MountainCarConvolutionalTraining as conv_trainor\n",
    "import numpy as np\n",
    "import myutils.constants.Constants as cts\n",
    "from myutils.gym_custom.gym_custom import MountainCarEnvWrapper\n",
    "import csv\n",
    "\n",
    "import os\n",
    "\n",
    "from myutils.xvfbwrapper import Xvfb\n",
    "\n",
    "vdisplay = Xvfb()\n",
    "vdisplay.start()\n",
    "\n",
    "try:\n",
    "\n",
    "    env = MountainCarEnvWrapper(gym.make('MountainCar-v0').env)\n",
    "\n",
    "    time_steps_in_episode = 300\n",
    "    episodes = 100\n",
    "\n",
    "    models_from_training = os.listdir(cts.Constants.PATH_TO_MODELS_TRACKING_PROGRESS_TRESHOLD_SAVES)\n",
    "\n",
    "    number_of_models_saved = len(models_from_training)\n",
    "\n",
    "    for current_model_tested in range(number_of_models_saved):\n",
    "\n",
    "        model=models.load_model(cts.Constants.PATH_TO_MODELS_TRACKING_PROGRESS_TRESHOLD_SAVES+models_from_training[current_model_tested])\n",
    "\n",
    "        stack_depth = 4\n",
    "        frame_skip = 4\n",
    "\n",
    "        frames_memory = deque(maxlen=stack_depth)\n",
    "\n",
    "\n",
    "        for ep in range(episodes):\n",
    "\n",
    "            env.reset()\n",
    "\n",
    "            reward_sum=0\n",
    "\n",
    "            current_image =env.render(mode='rgb_array')\n",
    "            current_frame =conv_trainor.process_image(conv_trainor ,current_image)  # the frame is an greyscale image of the current position\n",
    "            current_frame = current_frame.reshape(1, current_frame.shape[0], current_frame.shape[1])\n",
    "            current_state = np.repeat(current_frame,stack_depth, axis=0)\n",
    "            frames_memory.extend(current_state)\n",
    "\n",
    "            for t in range(time_steps_in_episode):\n",
    "\n",
    "                if (t% frame_skip) == 0:\n",
    "                    current_state = current_state.reshape(1, current_state.shape[0], current_state.shape[1], current_state.shape[2])\n",
    "                    best_action = np.argmax(model.predict([current_state,np.ones((1,3))]))\n",
    "\n",
    "\n",
    "                new_state_numerical, reward, done, _ = env.step_with_custom_reward(best_action)\n",
    "\n",
    "                new_image = env.render(mode='rgb_array')\n",
    "                next_frame = conv_trainor.process_image(conv_trainor,new_image)\n",
    "                next_frame = next_frame.reshape(next_frame.shape[0], next_frame.shape[1])\n",
    "\n",
    "                # current_state is a FIFO buffer so just by appending the size  of current_state is constant\n",
    "                frames_memory.append(next_frame)\n",
    "\n",
    "                new_state = np.asarray(frames_memory)\n",
    "\n",
    "                # make the training possible only when the minimum experience was gathered\n",
    "\n",
    "                reward_sum += reward\n",
    "                current_state = new_state\n",
    "\n",
    "                if done:\n",
    "                    break\n",
    "\n",
    "            with open('./test_during_training_analysis.csv', mode='a+', newline='') as numerical_data:\n",
    "                numerical_data_writer = csv.writer(numerical_data, delimiter=',', quotechar='\"',\n",
    "                                                quoting=csv.QUOTE_MINIMAL)\n",
    "                numerical_data_writer.writerow([ep, reward_sum, 1 if done else 0])\n",
    "finally:\n",
    "    vdisplay.stop()\n",
    "\n",
    "print(\"Finished validation\")"
   ],
   "metadata": {
    "collapsed": false,
    "pycharm": {
     "name": "#%% validation data creation based on training models in trackingProgress\n"
    }
   }
  },
  {
   "cell_type": "code",
   "execution_count": null,
   "outputs": [],
   "source": [
    "import numpy as np\n",
    "import csv\n",
    "\n",
    "a = []\n",
    "\n",
    "with open('./rewards_in_episodes.csv', mode='r', newline='') as numerical_data:\n",
    "    reader = csv.reader(numerical_data,delimiter=',')\n",
    "    for row in reader:\n",
    "        a.extend([np.asarray([float(row[0]),float(row[1]),float(row[2]) ] ) ] ),\n",
    "\n",
    "a = np.asarray(a)\n",
    "episodes = a[:,0]\n",
    "rewards = a[:,1]\n",
    "episodes_won = a[:,2]\n",
    "\n",
    "import matplotlib.pyplot as plt\n",
    "plt.figure(figsize=(17,4))\n",
    "plt.plot(episodes,rewards, label=\"rewards/episode\")\n",
    "plt.plot(episodes,episodes_won,label=\"episode won\")\n",
    "plt.xlabel('episodes')\n",
    "plt.ylabel('total reward/episode')\n",
    "plt.legend(loc=\"upper left\",bbox_to_anchor=(0,1.18))\n",
    "plt.xticks(np.linspace(0,100,21))\n",
    "plt.savefig(\"training_process_analysis_on_100_episodes.png\")\n",
    "print(\"Done\")"
   ],
   "metadata": {
    "collapsed": false,
    "pycharm": {
     "name": "#%% training graph generator\n"
    }
   }
  },
  {
   "cell_type": "code",
   "execution_count": null,
   "outputs": [],
   "source": [
    "\n",
    "import numpy as np\n",
    "import csv\n",
    "\n",
    "a = []\n",
    "number_of_validation_eps_for_model = 100\n",
    "number_of_models = 9\n",
    "with open('./test_during_training_analysis.csv', mode='r', newline='') as numerical_data:\n",
    "    reader = csv.reader(numerical_data,delimiter=',')\n",
    "    for row in reader:\n",
    "        a.extend([np.asarray([float(row[0]),float(row[1]),float(row[2]) ] ) ] ),\n",
    "\n",
    "a = np.asarray(a)\n",
    "episodes = a[:,0]\n",
    "\n",
    "#because for each new model the episodes start from 0, in order to include all validation data for all the models in 1 graph,\n",
    "# I changed the validation episodes for each new model to start instead of  0 with 0+current_model*100(if the data is generated for 100 eps/model)\n",
    "for i in range(number_of_models):\n",
    "   a[i*number_of_validation_eps_for_model:(i+1)*number_of_validation_eps_for_model,0] = \\\n",
    "       a[i*number_of_validation_eps_for_model:(i+1)*number_of_validation_eps_for_model,0] + np.ones(number_of_validation_eps_for_model)*i*number_of_validation_eps_for_model\n",
    "\n",
    "rewards = a[:,1]\n",
    "episodes_won = a[:,2]\n",
    "\n",
    "import matplotlib.pyplot as plt\n",
    "plt.figure(figsize=(17,4))\n",
    "plt.plot(episodes,rewards, label=\"rewards/episode\")\n",
    "plt.plot(episodes,episodes_won,label=\"episode won\")\n",
    "plt.xlabel('episodes')\n",
    "plt.ylabel('total reward/episode')\n",
    "plt.legend(loc=\"upper left\",bbox_to_anchor=(0,1.18))\n",
    "\n",
    "#used xticks to include all the validation data -> 900 eps in this case, and to index where the data for the new model starts -> 10 points for 9 intervals\n",
    "plt.xticks(np.linspace(0,900,10))\n",
    "plt.savefig(\"validation_100_ep_every_10.png\")\n",
    "print(\"Done\")\n",
    "\n"
   ],
   "metadata": {
    "collapsed": false,
    "pycharm": {
     "name": "#%% validation graph generator\n"
    }
   }
  }
 ],
 "metadata": {
  "kernelspec": {
   "display_name": "Python 3",
   "language": "python",
   "name": "python3"
  },
  "language_info": {
   "codemirror_mode": {
    "name": "ipython",
    "version": 2
   },
   "file_extension": ".py",
   "mimetype": "text/x-python",
   "name": "python",
   "nbconvert_exporter": "python",
   "pygments_lexer": "ipython2",
   "version": "2.7.6"
  }
 },
 "nbformat": 4,
 "nbformat_minor": 0
}
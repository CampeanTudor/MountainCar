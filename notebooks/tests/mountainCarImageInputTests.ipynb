{
 "cells": [
  {
   "cell_type": "code",
   "execution_count": null,
   "metadata": {
    "collapsed": true,
    "pycharm": {
     "is_executing": true,
     "name": "#%% training process with convolutional nets\n"
    }
   },
   "outputs": [
    {
     "name": "stderr",
     "text": [
      "Using TensorFlow backend.\n"
     ],
     "output_type": "stream"
    },
    {
     "name": "stdout",
     "text": [
      "AAA\n",
      "(400, 600, 3)\n",
      "False\n",
      "Failed to finish task in epsoide 0\n",
      "now epsilon is 1, the reward is -190.0\n",
      "finished episode in 199\n"
     ],
     "output_type": "stream"
    }
   ],
   "source": [
    "import collections\n",
    "import pickle\n",
    "import gym\n",
    "from myutils.MountainCarConvolutionalTraining import MountainCarConvolutionalTraining\n",
    "\n",
    "import numpy as np\n",
    "\n",
    "\n",
    "env = gym.make('MountainCar-v0')\n",
    "\n",
    "print(\"AAA\")\n",
    "env.reset()\n",
    "print(env.render(mode='rgb_array').shape)\n",
    "print(env.action_space.contains(3))\n",
    "agent = MountainCarConvolutionalTraining(env)\n",
    "agent.start() \n",
    "\n",
    "print(\"Yahoo\")\n"
   ]
  },
  {
   "cell_type": "code",
   "execution_count": null,
   "outputs": [
    {
     "name": "stdout",
     "text": [
      "AAA\n",
      "(400, 600, 3)\n",
      "False\n",
      "Failed to finish task in epsoide 0\n",
      "now epsilon is 1, the reward is -200.0 maxPosition is -0.3053478439894472\n",
      "Failed to finish task in epsoide 1\n",
      "now epsilon is 0.95, the reward is -200.0 maxPosition is -0.3183103493779742\n",
      "Failed to finish task in epsoide 2\n",
      "now epsilon is 0.8999999999999999, the reward is -200.0 maxPosition is -0.2963690795491441\n",
      "Failed to finish task in epsoide 3\n",
      "now epsilon is 0.8499999999999999, the reward is -200.0 maxPosition is -0.2885909926495974\n",
      "Failed to finish task in epsoide 4\n",
      "now epsilon is 0.7999999999999998, the reward is -200.0 maxPosition is -0.34890288816182213\n",
      "Failed to finish task in epsoide 5\n",
      "now epsilon is 0.7499999999999998, the reward is -200.0 maxPosition is -0.4193723227569057\n"
     ],
     "output_type": "stream"
    }
   ],
   "source": [
    "import collections\n",
    "import pickle\n",
    "import gym\n",
    "from myutils.MountainCarTrain import MountainCarTrain\n",
    "\n",
    "import numpy as np\n",
    "\n",
    "\n",
    "env = gym.make('MountainCar-v0')\n",
    "\n",
    "print(\"AAA\")\n",
    "env.reset()\n",
    "print(env.render(mode='rgb_array').shape)\n",
    "print(env.action_space.contains(3))\n",
    "agent = MountainCarTrain(env)\n",
    "agent.start() \n",
    "\n",
    "print(\"Yahoo\")"
   ],
   "metadata": {
    "collapsed": false,
    "pycharm": {
     "name": "#%% training without convolutional nets\n",
     "is_executing": true
    }
   }
  }
 ],
 "metadata": {
  "kernelspec": {
   "name": "python3",
   "language": "python",
   "display_name": "Python 3"
  },
  "language_info": {
   "codemirror_mode": {
    "name": "ipython",
    "version": 2
   },
   "file_extension": ".py",
   "mimetype": "text/x-python",
   "name": "python",
   "nbconvert_exporter": "python",
   "pygments_lexer": "ipython2",
   "version": "2.7.6"
  },
  "pycharm": {
   "stem_cell": {
    "cell_type": "raw",
    "source": [],
    "metadata": {
     "collapsed": false
    }
   }
  }
 },
 "nbformat": 4,
 "nbformat_minor": 0
}